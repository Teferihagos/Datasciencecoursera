{
  "nbformat": 4,
  "nbformat_minor": 0,
  "metadata": {
    "colab": {
      "provenance": [],
      "include_colab_link": true
    },
    "kernelspec": {
      "name": "python3",
      "display_name": "Python 3"
    },
    "language_info": {
      "name": "python"
    }
  },
  "cells": [
    {
      "cell_type": "markdown",
      "metadata": {
        "id": "view-in-github",
        "colab_type": "text"
      },
      "source": [
        "<a href=\"https://colab.research.google.com/github/Teferihagos/Datasciencecoursera/blob/master/Panda.ipynb\" target=\"_parent\"><img src=\"https://colab.research.google.com/assets/colab-badge.svg\" alt=\"Open In Colab\"/></a>"
      ]
    },
    {
      "cell_type": "code",
      "execution_count": null,
      "metadata": {
        "colab": {
          "base_uri": "https://localhost:8080/",
          "height": 143
        },
        "id": "cGjgeKZGPJLF",
        "outputId": "735aa09e-1156-4653-ce71-45dd75d2af46"
      },
      "outputs": [
        {
          "output_type": "execute_result",
          "data": {
            "text/plain": [
              "      Name  Age\n",
              "0    Alice   25\n",
              "1      Bob   30\n",
              "2  Charlie   22"
            ],
            "text/html": [
              "\n",
              "  <div id=\"df-bec2b274-d0cc-4eae-9464-8b9664f285a3\" class=\"colab-df-container\">\n",
              "    <div>\n",
              "<style scoped>\n",
              "    .dataframe tbody tr th:only-of-type {\n",
              "        vertical-align: middle;\n",
              "    }\n",
              "\n",
              "    .dataframe tbody tr th {\n",
              "        vertical-align: top;\n",
              "    }\n",
              "\n",
              "    .dataframe thead th {\n",
              "        text-align: right;\n",
              "    }\n",
              "</style>\n",
              "<table border=\"1\" class=\"dataframe\">\n",
              "  <thead>\n",
              "    <tr style=\"text-align: right;\">\n",
              "      <th></th>\n",
              "      <th>Name</th>\n",
              "      <th>Age</th>\n",
              "    </tr>\n",
              "  </thead>\n",
              "  <tbody>\n",
              "    <tr>\n",
              "      <th>0</th>\n",
              "      <td>Alice</td>\n",
              "      <td>25</td>\n",
              "    </tr>\n",
              "    <tr>\n",
              "      <th>1</th>\n",
              "      <td>Bob</td>\n",
              "      <td>30</td>\n",
              "    </tr>\n",
              "    <tr>\n",
              "      <th>2</th>\n",
              "      <td>Charlie</td>\n",
              "      <td>22</td>\n",
              "    </tr>\n",
              "  </tbody>\n",
              "</table>\n",
              "</div>\n",
              "    <div class=\"colab-df-buttons\">\n",
              "\n",
              "  <div class=\"colab-df-container\">\n",
              "    <button class=\"colab-df-convert\" onclick=\"convertToInteractive('df-bec2b274-d0cc-4eae-9464-8b9664f285a3')\"\n",
              "            title=\"Convert this dataframe to an interactive table.\"\n",
              "            style=\"display:none;\">\n",
              "\n",
              "  <svg xmlns=\"http://www.w3.org/2000/svg\" height=\"24px\" viewBox=\"0 -960 960 960\">\n",
              "    <path d=\"M120-120v-720h720v720H120Zm60-500h600v-160H180v160Zm220 220h160v-160H400v160Zm0 220h160v-160H400v160ZM180-400h160v-160H180v160Zm440 0h160v-160H620v160ZM180-180h160v-160H180v160Zm440 0h160v-160H620v160Z\"/>\n",
              "  </svg>\n",
              "    </button>\n",
              "\n",
              "  <style>\n",
              "    .colab-df-container {\n",
              "      display:flex;\n",
              "      gap: 12px;\n",
              "    }\n",
              "\n",
              "    .colab-df-convert {\n",
              "      background-color: #E8F0FE;\n",
              "      border: none;\n",
              "      border-radius: 50%;\n",
              "      cursor: pointer;\n",
              "      display: none;\n",
              "      fill: #1967D2;\n",
              "      height: 32px;\n",
              "      padding: 0 0 0 0;\n",
              "      width: 32px;\n",
              "    }\n",
              "\n",
              "    .colab-df-convert:hover {\n",
              "      background-color: #E2EBFA;\n",
              "      box-shadow: 0px 1px 2px rgba(60, 64, 67, 0.3), 0px 1px 3px 1px rgba(60, 64, 67, 0.15);\n",
              "      fill: #174EA6;\n",
              "    }\n",
              "\n",
              "    .colab-df-buttons div {\n",
              "      margin-bottom: 4px;\n",
              "    }\n",
              "\n",
              "    [theme=dark] .colab-df-convert {\n",
              "      background-color: #3B4455;\n",
              "      fill: #D2E3FC;\n",
              "    }\n",
              "\n",
              "    [theme=dark] .colab-df-convert:hover {\n",
              "      background-color: #434B5C;\n",
              "      box-shadow: 0px 1px 3px 1px rgba(0, 0, 0, 0.15);\n",
              "      filter: drop-shadow(0px 1px 2px rgba(0, 0, 0, 0.3));\n",
              "      fill: #FFFFFF;\n",
              "    }\n",
              "  </style>\n",
              "\n",
              "    <script>\n",
              "      const buttonEl =\n",
              "        document.querySelector('#df-bec2b274-d0cc-4eae-9464-8b9664f285a3 button.colab-df-convert');\n",
              "      buttonEl.style.display =\n",
              "        google.colab.kernel.accessAllowed ? 'block' : 'none';\n",
              "\n",
              "      async function convertToInteractive(key) {\n",
              "        const element = document.querySelector('#df-bec2b274-d0cc-4eae-9464-8b9664f285a3');\n",
              "        const dataTable =\n",
              "          await google.colab.kernel.invokeFunction('convertToInteractive',\n",
              "                                                    [key], {});\n",
              "        if (!dataTable) return;\n",
              "\n",
              "        const docLinkHtml = 'Like what you see? Visit the ' +\n",
              "          '<a target=\"_blank\" href=https://colab.research.google.com/notebooks/data_table.ipynb>data table notebook</a>'\n",
              "          + ' to learn more about interactive tables.';\n",
              "        element.innerHTML = '';\n",
              "        dataTable['output_type'] = 'display_data';\n",
              "        await google.colab.output.renderOutput(dataTable, element);\n",
              "        const docLink = document.createElement('div');\n",
              "        docLink.innerHTML = docLinkHtml;\n",
              "        element.appendChild(docLink);\n",
              "      }\n",
              "    </script>\n",
              "  </div>\n",
              "\n",
              "\n",
              "<div id=\"df-a952d1ba-901e-4859-810b-7f0b598fd444\">\n",
              "  <button class=\"colab-df-quickchart\" onclick=\"quickchart('df-a952d1ba-901e-4859-810b-7f0b598fd444')\"\n",
              "            title=\"Suggest charts.\"\n",
              "            style=\"display:none;\">\n",
              "\n",
              "<svg xmlns=\"http://www.w3.org/2000/svg\" height=\"24px\"viewBox=\"0 0 24 24\"\n",
              "     width=\"24px\">\n",
              "    <g>\n",
              "        <path d=\"M19 3H5c-1.1 0-2 .9-2 2v14c0 1.1.9 2 2 2h14c1.1 0 2-.9 2-2V5c0-1.1-.9-2-2-2zM9 17H7v-7h2v7zm4 0h-2V7h2v10zm4 0h-2v-4h2v4z\"/>\n",
              "    </g>\n",
              "</svg>\n",
              "  </button>\n",
              "\n",
              "<style>\n",
              "  .colab-df-quickchart {\n",
              "      --bg-color: #E8F0FE;\n",
              "      --fill-color: #1967D2;\n",
              "      --hover-bg-color: #E2EBFA;\n",
              "      --hover-fill-color: #174EA6;\n",
              "      --disabled-fill-color: #AAA;\n",
              "      --disabled-bg-color: #DDD;\n",
              "  }\n",
              "\n",
              "  [theme=dark] .colab-df-quickchart {\n",
              "      --bg-color: #3B4455;\n",
              "      --fill-color: #D2E3FC;\n",
              "      --hover-bg-color: #434B5C;\n",
              "      --hover-fill-color: #FFFFFF;\n",
              "      --disabled-bg-color: #3B4455;\n",
              "      --disabled-fill-color: #666;\n",
              "  }\n",
              "\n",
              "  .colab-df-quickchart {\n",
              "    background-color: var(--bg-color);\n",
              "    border: none;\n",
              "    border-radius: 50%;\n",
              "    cursor: pointer;\n",
              "    display: none;\n",
              "    fill: var(--fill-color);\n",
              "    height: 32px;\n",
              "    padding: 0;\n",
              "    width: 32px;\n",
              "  }\n",
              "\n",
              "  .colab-df-quickchart:hover {\n",
              "    background-color: var(--hover-bg-color);\n",
              "    box-shadow: 0 1px 2px rgba(60, 64, 67, 0.3), 0 1px 3px 1px rgba(60, 64, 67, 0.15);\n",
              "    fill: var(--button-hover-fill-color);\n",
              "  }\n",
              "\n",
              "  .colab-df-quickchart-complete:disabled,\n",
              "  .colab-df-quickchart-complete:disabled:hover {\n",
              "    background-color: var(--disabled-bg-color);\n",
              "    fill: var(--disabled-fill-color);\n",
              "    box-shadow: none;\n",
              "  }\n",
              "\n",
              "  .colab-df-spinner {\n",
              "    border: 2px solid var(--fill-color);\n",
              "    border-color: transparent;\n",
              "    border-bottom-color: var(--fill-color);\n",
              "    animation:\n",
              "      spin 1s steps(1) infinite;\n",
              "  }\n",
              "\n",
              "  @keyframes spin {\n",
              "    0% {\n",
              "      border-color: transparent;\n",
              "      border-bottom-color: var(--fill-color);\n",
              "      border-left-color: var(--fill-color);\n",
              "    }\n",
              "    20% {\n",
              "      border-color: transparent;\n",
              "      border-left-color: var(--fill-color);\n",
              "      border-top-color: var(--fill-color);\n",
              "    }\n",
              "    30% {\n",
              "      border-color: transparent;\n",
              "      border-left-color: var(--fill-color);\n",
              "      border-top-color: var(--fill-color);\n",
              "      border-right-color: var(--fill-color);\n",
              "    }\n",
              "    40% {\n",
              "      border-color: transparent;\n",
              "      border-right-color: var(--fill-color);\n",
              "      border-top-color: var(--fill-color);\n",
              "    }\n",
              "    60% {\n",
              "      border-color: transparent;\n",
              "      border-right-color: var(--fill-color);\n",
              "    }\n",
              "    80% {\n",
              "      border-color: transparent;\n",
              "      border-right-color: var(--fill-color);\n",
              "      border-bottom-color: var(--fill-color);\n",
              "    }\n",
              "    90% {\n",
              "      border-color: transparent;\n",
              "      border-bottom-color: var(--fill-color);\n",
              "    }\n",
              "  }\n",
              "</style>\n",
              "\n",
              "  <script>\n",
              "    async function quickchart(key) {\n",
              "      const quickchartButtonEl =\n",
              "        document.querySelector('#' + key + ' button');\n",
              "      quickchartButtonEl.disabled = true;  // To prevent multiple clicks.\n",
              "      quickchartButtonEl.classList.add('colab-df-spinner');\n",
              "      try {\n",
              "        const charts = await google.colab.kernel.invokeFunction(\n",
              "            'suggestCharts', [key], {});\n",
              "      } catch (error) {\n",
              "        console.error('Error during call to suggestCharts:', error);\n",
              "      }\n",
              "      quickchartButtonEl.classList.remove('colab-df-spinner');\n",
              "      quickchartButtonEl.classList.add('colab-df-quickchart-complete');\n",
              "    }\n",
              "    (() => {\n",
              "      let quickchartButtonEl =\n",
              "        document.querySelector('#df-a952d1ba-901e-4859-810b-7f0b598fd444 button');\n",
              "      quickchartButtonEl.style.display =\n",
              "        google.colab.kernel.accessAllowed ? 'block' : 'none';\n",
              "    })();\n",
              "  </script>\n",
              "</div>\n",
              "    </div>\n",
              "  </div>\n"
            ]
          },
          "metadata": {},
          "execution_count": 2
        }
      ],
      "source": [
        "import pandas as pd\n",
        "#Data Frame\n",
        "data = {'Name': ['Alice', 'Bob', 'Charlie'],\n",
        "        'Age': [25, 30, 22]}\n",
        "\n",
        "df = pd.DataFrame(data)\n",
        "df"
      ]
    },
    {
      "cell_type": "code",
      "source": [
        "\n",
        "#series\n",
        "data = [25, 30, 22]\n",
        "labels = ['Alice', 'Bob', 'Charlie']\n",
        "\n",
        "series = pd.Series(data, index=labels)\n",
        "series"
      ],
      "metadata": {
        "colab": {
          "base_uri": "https://localhost:8080/"
        },
        "id": "EWlSvSHqPKX1",
        "outputId": "d46c0ae9-8a7f-4e23-bd46-4f52d99df4de"
      },
      "execution_count": null,
      "outputs": [
        {
          "output_type": "execute_result",
          "data": {
            "text/plain": [
              "Alice      25\n",
              "Bob        30\n",
              "Charlie    22\n",
              "dtype: int64"
            ]
          },
          "metadata": {},
          "execution_count": 4
        }
      ]
    },
    {
      "cell_type": "code",
      "source": [
        "import pandas as pd\n",
        "\n",
        "data = {\n",
        "    'Name': ['Alice', 'Bob', 'Charlie', 'David', 'Eve'],\n",
        "    'Age': [25, 30, 22, 35, 28],\n",
        "    'City': ['New York', 'Los Angeles', 'Chicago', 'Houston', 'Miami']\n",
        "}\n",
        "\n",
        "df = pd.DataFrame(data)\n"
      ],
      "metadata": {
        "id": "ubB52e8UPhl0"
      },
      "execution_count": null,
      "outputs": []
    },
    {
      "cell_type": "code",
      "source": [
        "#To select a specific row by its label (index), you can use .loc[]:\n",
        "alice_row = df.loc[0]\n",
        "print(alice_row)\n"
      ],
      "metadata": {
        "colab": {
          "base_uri": "https://localhost:8080/"
        },
        "id": "lSt36U05RcNG",
        "outputId": "be4f5361-6f72-4b0d-f97c-b22bc5b0ca4a"
      },
      "execution_count": null,
      "outputs": [
        {
          "output_type": "stream",
          "name": "stdout",
          "text": [
            "Name       Alice\n",
            "Age           25\n",
            "City    New York\n",
            "Name: 0, dtype: object\n"
          ]
        }
      ]
    },
    {
      "cell_type": "code",
      "source": [
        "#To select a specific column by its name, you can use the [] operator:\n",
        "ages = df['Age']\n",
        "print(ages)\n"
      ],
      "metadata": {
        "colab": {
          "base_uri": "https://localhost:8080/"
        },
        "id": "FZhaU8TJRd_F",
        "outputId": "63253fd2-a59f-4e68-bd0e-55849df119b1"
      },
      "execution_count": null,
      "outputs": [
        {
          "output_type": "stream",
          "name": "stdout",
          "text": [
            "0    25\n",
            "1    30\n",
            "2    22\n",
            "3    35\n",
            "4    28\n",
            "Name: Age, dtype: int64\n"
          ]
        }
      ]
    },
    {
      "cell_type": "code",
      "source": [
        "#You can select specific rows and columns by label using .loc[]:\n",
        "subset = df.loc[1:3, ['Name', 'Age']]\n",
        "print(subset)"
      ],
      "metadata": {
        "colab": {
          "base_uri": "https://localhost:8080/"
        },
        "id": "AsaA1QH0Rhai",
        "outputId": "cacc11f7-06ab-4920-c54f-a937189c410e"
      },
      "execution_count": null,
      "outputs": [
        {
          "output_type": "stream",
          "name": "stdout",
          "text": [
            "      Name  Age\n",
            "1      Bob   30\n",
            "2  Charlie   22\n",
            "3    David   35\n"
          ]
        }
      ]
    },
    {
      "cell_type": "code",
      "source": [
        "#example of Deletion\n",
        "\n",
        "import pandas as pd\n",
        "import numpy as np\n",
        "\n",
        "data = {\n",
        "    'StudentID': [1, 2, 3, 4, 5],\n",
        "    'Math_Score': [90, 85, np.nan, 78, 92],\n",
        "    'English_Score': [88, 76, 94, np.nan, 85]\n",
        "}\n",
        "\n",
        "df = pd.DataFrame(data)\n",
        "\n",
        "# Check for missing values\n",
        "print(\"Original DataFrame:\")\n",
        "print(df)\n",
        "\n",
        "# Delete rows with missing values\n",
        "df_cleaned = df.dropna()\n",
        "\n",
        "# Result after deletion\n",
        "print(\"\\nDataFrame after deleting rows with missing values:\")\n",
        "print(df_cleaned)\n"
      ],
      "metadata": {
        "colab": {
          "base_uri": "https://localhost:8080/"
        },
        "id": "H_ckLhILRya6",
        "outputId": "96de388f-7a2a-45a7-82a4-4c78c9991dbb"
      },
      "execution_count": null,
      "outputs": [
        {
          "output_type": "stream",
          "name": "stdout",
          "text": [
            "Original DataFrame:\n",
            "   StudentID  Math_Score  English_Score\n",
            "0          1        90.0           88.0\n",
            "1          2        85.0           76.0\n",
            "2          3         NaN           94.0\n",
            "3          4        78.0            NaN\n",
            "4          5        92.0           85.0\n",
            "\n",
            "DataFrame after deleting rows with missing values:\n",
            "   StudentID  Math_Score  English_Score\n",
            "0          1        90.0           88.0\n",
            "1          2        85.0           76.0\n",
            "4          5        92.0           85.0\n"
          ]
        }
      ]
    },
    {
      "cell_type": "code",
      "source": [
        "#example Imputation\n",
        "\n",
        "\n",
        "import pandas as pd\n",
        "import numpy as np\n",
        "\n",
        "data = {\n",
        "    'StudentID': [1, 2, 3, 4, 5],\n",
        "    'Math_Score': [90, 85, np.nan, 78, 92],\n",
        "    'English_Score': [88, 76, 94, np.nan, 85]\n",
        "}\n",
        "\n",
        "df = pd.DataFrame(data)\n",
        "\n",
        "# Check for missing values\n",
        "print(\"Original DataFrame:\")\n",
        "print(df)\n",
        "\n",
        "# Impute missing values with the mean for each subject\n",
        "math_mean = df['Math_Score'].mean()\n",
        "english_mean = df['English_Score'].mean()\n",
        "\n",
        "df['Math_Score'].fillna(math_mean, inplace=True)\n",
        "df['English_Score'].fillna(english_mean, inplace=True)\n",
        "\n",
        "# Result after imputation\n",
        "print(\"\\nDataFrame after imputing missing values:\")\n",
        "print(df)\n",
        "\n",
        "\n",
        "\n",
        "\n",
        "\n"
      ],
      "metadata": {
        "colab": {
          "base_uri": "https://localhost:8080/"
        },
        "id": "45AI217xS6E4",
        "outputId": "a3a8298c-f860-464d-d267-c77aeb30c20c"
      },
      "execution_count": null,
      "outputs": [
        {
          "output_type": "stream",
          "name": "stdout",
          "text": [
            "Original DataFrame:\n",
            "   StudentID  Math_Score  English_Score\n",
            "0          1        90.0           88.0\n",
            "1          2        85.0           76.0\n",
            "2          3         NaN           94.0\n",
            "3          4        78.0            NaN\n",
            "4          5        92.0           85.0\n",
            "\n",
            "DataFrame after imputing missing values:\n",
            "   StudentID  Math_Score  English_Score\n",
            "0          1       90.00          88.00\n",
            "1          2       85.00          76.00\n",
            "2          3       86.25          94.00\n",
            "3          4       78.00          85.75\n",
            "4          5       92.00          85.00\n"
          ]
        }
      ]
    },
    {
      "cell_type": "code",
      "source": [
        "import pandas as pd\n",
        "\n",
        "data = {\n",
        "    'OrderID': [101, 102, 103, 102, 104],\n",
        "    'CustomerName': ['Alice', 'Bob', 'Charlie', 'Bob', 'Eve'],\n",
        "    'Product': ['Laptop', 'Tablet', 'Phone', 'Tablet', 'Monitor']\n",
        "}\n",
        "\n",
        "df = pd.DataFrame(data)\n",
        "\n",
        "# Check for duplicate rows\n",
        "print(\"Original DataFrame:\")\n",
        "print(df)\n",
        "\n",
        "# Detect duplicate rows based on all columns\n",
        "duplicate_rows = df[df.duplicated()]\n",
        "\n",
        "# Result after duplicate detection\n",
        "print(\"\\nDuplicate Rows:\")\n",
        "print(duplicate_rows)\n",
        "\n",
        "# Delete duplicate rows\n",
        "df_cleaned = df.drop_duplicates()\n",
        "\n",
        "# Result after deletion\n",
        "print(\"\\nDataFrame after deleting duplicate rows:\")\n",
        "print(df_cleaned)\n"
      ],
      "metadata": {
        "colab": {
          "base_uri": "https://localhost:8080/"
        },
        "id": "N1dTbqviTbXX",
        "outputId": "54997eb5-84f8-4053-8b66-8d459a45f8a3"
      },
      "execution_count": null,
      "outputs": [
        {
          "output_type": "stream",
          "name": "stdout",
          "text": [
            "Original DataFrame:\n",
            "   OrderID CustomerName  Product\n",
            "0      101        Alice   Laptop\n",
            "1      102          Bob   Tablet\n",
            "2      103      Charlie    Phone\n",
            "3      102          Bob   Tablet\n",
            "4      104          Eve  Monitor\n",
            "\n",
            "Duplicate Rows:\n",
            "   OrderID CustomerName Product\n",
            "3      102          Bob  Tablet\n",
            "\n",
            "DataFrame after deleting duplicate rows:\n",
            "   OrderID CustomerName  Product\n",
            "0      101        Alice   Laptop\n",
            "1      102          Bob   Tablet\n",
            "2      103      Charlie    Phone\n",
            "4      104          Eve  Monitor\n"
          ]
        }
      ]
    },
    {
      "cell_type": "code",
      "source": [
        "# example of Handling Outliers:\n",
        "\n",
        "data = {\n",
        "    'EmployeeID': [1, 2, 3, 4, 5, 6, 7, 8, 9, 10],\n",
        "    'Salary': [50000, 55000, 60000, 90000, 75000, 80000, 100000, 120000, 150000, 200000]\n",
        "}\n",
        "\n",
        "df = pd.DataFrame(data)\n",
        "\n",
        "# Check for outliers using statistical methods\n",
        "mean_salary = df['Salary'].mean()\n",
        "std_salary = df['Salary'].std()\n",
        "\n",
        "# Define a threshold for outliers (e.g., 2 standard deviations from the mean)\n",
        "threshold = 2 * std_salary\n",
        "\n",
        "# Detect outliers\n",
        "outliers = df[(df['Salary'] > mean_salary + threshold) | (df['Salary'] < mean_salary - threshold)]\n",
        "\n",
        "# Result after outlier detection\n",
        "print(\"Outliers:\")\n",
        "print(outliers)\n",
        "\n",
        "# Handling outliers: Replace with a threshold value or remove\n",
        "# In this example, we replace outliers with the mean plus the threshold value\n",
        "df['Salary'] = df['Salary'].clip(lower=mean_salary - threshold, upper=mean_salary + threshold)\n",
        "\n",
        "# Result after handling outliers\n",
        "print(\"\\nDataFrame after handling outliers:\")\n"
      ],
      "metadata": {
        "colab": {
          "base_uri": "https://localhost:8080/"
        },
        "id": "tGeZ82M9T6nL",
        "outputId": "7d73ab79-2403-4d47-cd92-f9b82f066e37"
      },
      "execution_count": null,
      "outputs": [
        {
          "output_type": "stream",
          "name": "stdout",
          "text": [
            "Outliers:\n",
            "   EmployeeID  Salary\n",
            "9          10  200000\n",
            "\n",
            "DataFrame after handling outliers:\n"
          ]
        }
      ]
    },
    {
      "cell_type": "code",
      "source": [
        "#Data aggregation example\n",
        "\n",
        "data = {\n",
        "    'ProductID': [1, 2, 3, 4, 5, 6, 7, 8, 9, 10],\n",
        "    'ProductName': ['Laptop', 'Tablet', 'Phone', 'Laptop', 'Monitor', 'Tablet', 'Phone', 'Laptop', 'Monitor', 'Tablet'],\n",
        "    'Category': ['Electronics', 'Electronics', 'Electronics', 'Electronics', 'Electronics', 'Electronics', 'Electronics', 'Electronics', 'Electronics', 'Electronics'],\n",
        "    'Price': [800, 300, 500, 800, 200, 250, 450, 750, 220, 320],\n",
        "    'Quantity': [10, 20, 15, 12, 30, 25, 18, 9, 35, 22]\n",
        "}\n",
        "\n",
        "df = pd.DataFrame(data)\n",
        "\n",
        "# Grouping by 'Category' and calculating the total sales revenue per category\n",
        "agg_df = df.groupby('Category').agg({'Price': 'sum', 'Quantity': 'sum'})\n",
        "\n",
        "# Renaming the columns for clarity\n",
        "agg_df.rename(columns={'Price': 'Total Sales Revenue', 'Quantity': 'Total Quantity Sold'}, inplace=True)\n",
        "\n",
        "# Result after aggregation and grouping\n",
        "print(\"Aggregated DataFrame:\")\n",
        "print(agg_df)\n"
      ],
      "metadata": {
        "colab": {
          "base_uri": "https://localhost:8080/"
        },
        "id": "aQIKHFHUUcVm",
        "outputId": "7d0ead64-a59a-402f-b5c7-775f41c77e99"
      },
      "execution_count": null,
      "outputs": [
        {
          "output_type": "stream",
          "name": "stdout",
          "text": [
            "Aggregated DataFrame:\n",
            "             Total Sales Revenue  Total Quantity Sold\n",
            "Category                                             \n",
            "Electronics                 4590                  196\n"
          ]
        }
      ]
    },
    {
      "cell_type": "code",
      "source": [
        "# inner join example\n",
        "import pandas as pd\n",
        "\n",
        "# Create the 'Employees' DataFrame\n",
        "employees_data = {\n",
        "    'EmployeeID': [1, 2, 3, 4, 5],\n",
        "    'Name': ['Alice', 'Bob', 'Charlie', 'David', 'Eve'],\n",
        "    'DepartmentID': [101, 102, 101, 103, 102]\n",
        "}\n",
        "employees_df = pd.DataFrame(employees_data)\n",
        "\n",
        "# Create the 'Departments' DataFrame\n",
        "departments_data = {\n",
        "    'DepartmentID': [101, 102, 103],\n",
        "    'DepartmentName': ['HR', 'IT', 'Finance']\n",
        "}\n",
        "departments_df = pd.DataFrame(departments_data)\n",
        "\n",
        "# Merge the DataFrames using an inner join\n",
        "merged_df = pd.merge(employees_df, departments_df, on='DepartmentID', how='inner')\n",
        "\n",
        "# Result after the inner join\n",
        "print(merged_df)\n"
      ],
      "metadata": {
        "colab": {
          "base_uri": "https://localhost:8080/"
        },
        "id": "Ri8VebH0YCfI",
        "outputId": "c331cafc-e1f7-410d-ddca-7182e5e13961"
      },
      "execution_count": null,
      "outputs": [
        {
          "output_type": "stream",
          "name": "stdout",
          "text": [
            "   EmployeeID     Name  DepartmentID DepartmentName\n",
            "0           1    Alice           101             HR\n",
            "1           3  Charlie           101             HR\n",
            "2           2      Bob           102             IT\n",
            "3           5      Eve           102             IT\n",
            "4           4    David           103        Finance\n"
          ]
        }
      ]
    },
    {
      "cell_type": "code",
      "source": [
        "# left join\n",
        "\n",
        "import pandas as pd\n",
        "\n",
        "# Create the 'Employees' DataFrame\n",
        "employees_data = {\n",
        "    'EmployeeID': [1, 2, 3, 4, 5],\n",
        "    'Name': ['Alice', 'Bob', 'Charlie', 'David', 'Eve'],\n",
        "    'DepartmentID': [101, 102, 101, 103, 102]\n",
        "}\n",
        "employees_df = pd.DataFrame(employees_data)\n",
        "\n",
        "# Create the 'Departments' DataFrame\n",
        "departments_data = {\n",
        "    'DepartmentID': [101, 102, 103],\n",
        "    'DepartmentName': ['HR', 'IT', 'Finance']\n",
        "}\n",
        "departments_df = pd.DataFrame(departments_data)\n",
        "\n",
        "# Merge the DataFrames using a left join\n",
        "merged_df_left = pd.merge(employees_df, departments_df, on='DepartmentID', how='left')\n",
        "\n",
        "# Result after the left join\n",
        "print(merged_df_left)\n"
      ],
      "metadata": {
        "colab": {
          "base_uri": "https://localhost:8080/"
        },
        "id": "IMV8ufheYoVg",
        "outputId": "5c24985e-29a9-4812-feb0-69200f0b8388"
      },
      "execution_count": null,
      "outputs": [
        {
          "output_type": "stream",
          "name": "stdout",
          "text": [
            "   EmployeeID     Name  DepartmentID DepartmentName\n",
            "0           1    Alice           101             HR\n",
            "1           2      Bob           102             IT\n",
            "2           3  Charlie           101             HR\n",
            "3           4    David           103        Finance\n",
            "4           5      Eve           102             IT\n"
          ]
        }
      ]
    },
    {
      "cell_type": "code",
      "source": [
        "# right join\n",
        "import pandas as pd\n",
        "\n",
        "# Create the 'Employees' DataFrame\n",
        "employees_data = {\n",
        "    'EmployeeID': [1, 2, 3, 4, 5],\n",
        "    'Name': ['Alice', 'Bob', 'Charlie', 'David', 'Eve'],\n",
        "    'DepartmentID': [101, 102, 101, 103, 102]\n",
        "}\n",
        "employees_df = pd.DataFrame(employees_data)\n",
        "\n",
        "# Create the 'Departments' DataFrame\n",
        "departments_data = {\n",
        "    'DepartmentID': [101, 102, 103],\n",
        "    'DepartmentName': ['HR', 'IT', 'Finance']\n",
        "}\n",
        "departments_df = pd.DataFrame(departments_data)\n",
        "\n",
        "# Merge the DataFrames using a right join\n",
        "merged_df_right = pd.merge(employees_df, departments_df, on='DepartmentID', how='right')\n",
        "\n",
        "# Result after the right join\n",
        "print(merged_df_right)\n"
      ],
      "metadata": {
        "colab": {
          "base_uri": "https://localhost:8080/"
        },
        "id": "ZRqqlzwaYx3c",
        "outputId": "c2b3ed50-6f79-4152-f270-e3ab6e23818c"
      },
      "execution_count": null,
      "outputs": [
        {
          "output_type": "stream",
          "name": "stdout",
          "text": [
            "   EmployeeID     Name  DepartmentID DepartmentName\n",
            "0           1    Alice           101             HR\n",
            "1           3  Charlie           101             HR\n",
            "2           2      Bob           102             IT\n",
            "3           5      Eve           102             IT\n",
            "4           4    David           103        Finance\n"
          ]
        }
      ]
    },
    {
      "cell_type": "code",
      "source": [
        "#Data visuliztion\n",
        "\n",
        "import pandas as pd\n",
        "import matplotlib.pyplot as plt\n",
        "\n",
        "# Create a sample DataFrame\n",
        "data = {\n",
        "    'Month': ['Jan', 'Feb', 'Mar', 'Apr', 'May'],\n",
        "    'Revenue': [10000, 12000, 15000, 11000, 13000]\n",
        "}\n",
        "\n",
        "df = pd.DataFrame(data)\n",
        "\n",
        "# Plot a simple bar chart\n",
        "plt.figure(figsize=(8, 4))\n",
        "plt.bar(df['Month'], df['Revenue'])\n",
        "plt.title('Monthly Revenue')\n",
        "plt.xlabel('Month')\n",
        "plt.ylabel('Revenue ($)')\n",
        "plt.show()\n"
      ],
      "metadata": {
        "colab": {
          "base_uri": "https://localhost:8080/",
          "height": 410
        },
        "id": "dpwHk4w-ZCVo",
        "outputId": "3a48c25f-f011-4ac4-e522-18e729ec22dd"
      },
      "execution_count": null,
      "outputs": [
        {
          "output_type": "display_data",
          "data": {
            "text/plain": [
              "<Figure size 800x400 with 1 Axes>"
            ],
            "image/png": "[encoded data removed]"
          },
          "metadata": {}
        }
      ]
    },
    {
      "cell_type": "code",
      "source": [],
      "metadata": {
        "id": "U7OJZ59nZgxu"
      },
      "execution_count": null,
      "outputs": []
    }
  ]
}