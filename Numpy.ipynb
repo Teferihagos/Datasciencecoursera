{
  "nbformat": 4,
  "nbformat_minor": 0,
  "metadata": {
    "colab": {
      "provenance": [],
      "include_colab_link": true
    },
    "kernelspec": {
      "name": "python3",
      "display_name": "Python 3"
    },
    "language_info": {
      "name": "python"
    }
  },
  "cells": [
    {
      "cell_type": "markdown",
      "metadata": {
        "id": "view-in-github",
        "colab_type": "text"
      },
      "source": [
        "<a href=\"https://colab.research.google.com/github/Teferihagos/Datasciencecoursera/blob/master/Numpy.ipynb\" target=\"_parent\"><img src=\"https://colab.research.google.com/assets/colab-badge.svg\" alt=\"Open In Colab\"/></a>"
      ]
    },
    {
      "cell_type": "code",
      "execution_count": null,
      "metadata": {
        "colab": {
          "base_uri": "https://localhost:8080/"
        },
        "id": "4gJNQOiZakTt",
        "outputId": "87de643a-c2f0-4cac-86ec-70c383d50d9b"
      },
      "outputs": [
        {
          "output_type": "stream",
          "name": "stdout",
          "text": [
            "List: [1, 2, 3, 4, 5]\n",
            "Tuple: (6, 7, 8, 9, 10)\n"
          ]
        }
      ],
      "source": [
        "# Creating a list\n",
        "my_list = [1, 2, 3, 4, 5]\n",
        "\n",
        "# Creating a tuple\n",
        "my_tuple = (6, 7, 8, 9, 10)\n",
        "\n",
        "# Printing the list and tuple\n",
        "print(\"List:\", my_list)\n",
        "print(\"Tuple:\", my_tuple)\n",
        "\n",
        " #using python"
      ]
    },
    {
      "cell_type": "code",
      "source": [
        "import numpy as np\n",
        "\n",
        "# Creating a NumPy array from a list\n",
        "my_numpy_array_from_list = np.array([1, 2, 3, 4, 5])\n",
        "\n",
        "# Creating a NumPy array from a tuple\n",
        "my_numpy_array_from_tuple = np.array((6, 7, 8, 9, 10))\n",
        "\n",
        "# Printing the NumPy arrays\n",
        "print(\"NumPy Array from List:\", my_numpy_array_from_list)\n",
        "print(\"NumPy Array from Tuple:\", my_numpy_array_from_tuple)\n",
        "\n",
        " #using numpy"
      ],
      "metadata": {
        "colab": {
          "base_uri": "https://localhost:8080/"
        },
        "id": "onQHY298alWO",
        "outputId": "d4a7c372-d347-479d-fbf0-ee1cd8822a1c"
      },
      "execution_count": null,
      "outputs": [
        {
          "output_type": "stream",
          "name": "stdout",
          "text": [
            "NumPy Array from List: [1 2 3 4 5]\n",
            "NumPy Array from Tuple: [ 6  7  8  9 10]\n"
          ]
        }
      ]
    },
    {
      "cell_type": "code",
      "source": [
        "import numpy as np\n",
        "\n",
        "# Creating a NumPy array from a list\n",
        "my_numpy_array_from_list = np.array([1, 2, 3, 4, 5])\n",
        "\n",
        "# Creating a NumPy array from a tuple\n",
        "my_numpy_array_from_tuple = np.array((6, 7, 8, 9, 10))\n",
        "\n",
        "# Printing the NumPy arrays\n",
        "print(\"NumPy Array from List:\", my_numpy_array_from_list)\n",
        "print(\"NumPy Array from Tuple:\", my_numpy_array_from_tuple)\n",
        "\n",
        " #using numpy\n",
        "\n"
      ],
      "metadata": {
        "colab": {
          "base_uri": "https://localhost:8080/"
        },
        "id": "TVtoUDWza-R1",
        "outputId": "f697175c-e73d-433a-a79d-afc70ece6bb0"
      },
      "execution_count": null,
      "outputs": [
        {
          "output_type": "stream",
          "name": "stdout",
          "text": [
            "[1, 2, 3, 4, 5]\n"
          ]
        }
      ]
    },
    {
      "cell_type": "code",
      "source": [
        "#1.Array Indexing:\n",
        "\n",
        "\n",
        "# Create a NumPy array\n",
        "my_array = np.array([1, 2, 3, 4, 5])\n",
        "\n",
        "# Accessing elements by index\n",
        "element_at_index_0 = my_array[0]  # Access the first element\n",
        "element_at_index_3 = my_array[3]  # Access the fourth element\n",
        "\n",
        "print(\"Element at index 0:\", element_at_index_0)\n",
        "print(\"Element at index 3:\", element_at_index_3)\n",
        "\n",
        "\n",
        "#2.Array Slicing:\n",
        "\n",
        "\n",
        "# Create a NumPy array\n",
        "my_array = np.array([1, 2, 3, 4, 5])\n",
        "\n",
        "# Basic slicing\n",
        "slice_1 = my_array[1:4]  # Elements from index 1 to 3\n",
        "slice_2 = my_array[:3]   # Elements from the beginning to index 2\n",
        "slice_3 = my_array[2:]   # Elements from index 2 to the end\n",
        "\n",
        "print(\"Slice 1:\", slice_1)\n",
        "print(\"Slice 2:\", slice_2)\n",
        "print(\"Slice 3:\", slice_3)\n",
        "\n",
        "# Slicing with step\n",
        "slice_with_step = my_array[::2]  # Elements with a step of 2\n",
        "print(\"Slice with step:\", slice_with_step)\n",
        "\n",
        "#3. Negative Indices and Reverse Slicing:\n",
        "\n",
        "import numpy as np\n",
        "\n",
        "# Create a NumPy array\n",
        "my_array = np.array([1, 2, 3, 4, 5])\n",
        "\n",
        "# Negative indexing\n",
        "element_at_index_minus_1 = my_array[-1]  # Access the last element\n",
        "element_at_index_minus_2 = my_array[-2]  # Access the second-to-last element\n",
        "\n",
        "print(\"Element at index -1:\", element_at_index_minus_1)\n",
        "print(\"Element at index -2:\", element_at_index_minus_2)\n",
        "\n",
        "# Reverse slicing\n",
        "reverse_slice = my_array[::-1]  # Reverse the array\n",
        "print(\"Reverse Slice:\", reverse_slice)\n",
        "\n",
        "\n"
      ],
      "metadata": {
        "colab": {
          "base_uri": "https://localhost:8080/"
        },
        "id": "0zNisUn1cuES",
        "outputId": "cee67e22-3320-428f-d58b-596686693615"
      },
      "execution_count": null,
      "outputs": [
        {
          "output_type": "stream",
          "name": "stdout",
          "text": [
            "Element at index 0: 1\n",
            "Element at index 3: 4\n",
            "Slice 1: [2 3 4]\n",
            "Slice 2: [1 2 3]\n",
            "Slice 3: [3 4 5]\n",
            "Slice with step: [1 3 5]\n",
            "Element at index -1: 5\n",
            "Element at index -2: 4\n",
            "Reverse Slice: [5 4 3 2 1]\n"
          ]
        }
      ]
    },
    {
      "cell_type": "code",
      "source": [
        "import numpy as np\n",
        "\n",
        "arr1 = np.array([1, 2, 3])\n",
        "arr2 = np.array([4, 5, 6])\n",
        "\n",
        "# Addition\n",
        "result_add = arr1 + arr2  # [5, 7, 9]\n",
        "\n",
        "# Subtraction\n",
        "result_sub = arr1 - arr2  # [-3, -3, -3]\n",
        "\n",
        "# Multiplication\n",
        "result_mul = arr1 * arr2  # [4, 10, 18]\n",
        "\n",
        "# Division\n",
        "result_div = arr1 / arr2  # [0.25, 0.4, 0.5]\n",
        "\n",
        "#result_add\n",
        "#result_sub\n",
        "#result_div\n",
        "#result_mul\n"
      ],
      "metadata": {
        "id": "UhDvLvmGhrYM"
      },
      "execution_count": null,
      "outputs": []
    },
    {
      "cell_type": "code",
      "source": [
        "arr = np.array([1, 2, 3])\n",
        "\n",
        "# Square root\n",
        "result_sqrt = np.sqrt(arr)  # [1.0, 1.41421356, 1.73205081]\n",
        "\n"
      ],
      "metadata": {
        "id": "nkdaNPc5h9Fp"
      },
      "execution_count": null,
      "outputs": []
    },
    {
      "cell_type": "code",
      "source": [
        "arr = np.array([1, 2, 3, 4, 5])\n",
        "\n",
        "# Mean\n",
        "mean = np.mean(arr)  # 3.0\n",
        "\n",
        "# Sum\n",
        "sum_val = np.sum(arr)  # 15\n",
        "\n",
        "# Minimum\n",
        "min_val = np.min(arr)  # 1\n",
        "\n",
        "# Maximum\n",
        "max_val = np.max(arr)  # 5\n",
        "\n",
        "max_val"
      ],
      "metadata": {
        "colab": {
          "base_uri": "https://localhost:8080/"
        },
        "id": "p1-xLV5ui5wT",
        "outputId": "eab95938-f8a5-4bdf-d889-f4681f6f12b9"
      },
      "execution_count": null,
      "outputs": [
        {
          "output_type": "execute_result",
          "data": {
            "text/plain": [
              "5"
            ]
          },
          "metadata": {},
          "execution_count": 10
        }
      ]
    },
    {
      "cell_type": "code",
      "source": [
        "#Broadcasting\n",
        "\n",
        "import numpy as np\n",
        "\n",
        "# Create a 2x3 array\n",
        "A = np.array([[1, 2, 3],\n",
        "              [4, 5, 6]])\n",
        "\n",
        "# Create a 1x3 array\n",
        "B = np.array([10, 20, 30])\n",
        "\n",
        "# Adding the arrays with different shapes using broadcasting\n",
        "result = A + B\n",
        "\n",
        "# Broadcasting automatically expands B to match the shape of A\n",
        "# Resulting in the following operation:\n",
        "# [[1+10, 2+20, 3+30],\n",
        "#  [4+10, 5+20, 6+30]]\n",
        "\n",
        "print(result)\n"
      ],
      "metadata": {
        "colab": {
          "base_uri": "https://localhost:8080/"
        },
        "id": "FvP3OebtjKTz",
        "outputId": "3f2a7aed-b33f-486a-b56f-8cb43674df55"
      },
      "execution_count": null,
      "outputs": [
        {
          "output_type": "stream",
          "name": "stdout",
          "text": [
            "[[11 22 33]\n",
            " [14 25 36]]\n"
          ]
        }
      ]
    },
    {
      "cell_type": "code",
      "source": [
        "#Reshaping Arrays:\n",
        "\n",
        "arr = np.arange(12)  # Create a 1D array with values from 0 to 11 you can't add 14 for example because you can't multiply 3*4 != 14\n",
        "reshaped_arr = arr.reshape((3, 4))  # Reshape it into a 3x4 2D array\n",
        "reshaped_arr"
      ],
      "metadata": {
        "colab": {
          "base_uri": "https://localhost:8080/"
        },
        "id": "g2F4y5FGlLQ3",
        "outputId": "5c7015a7-5545-4c86-8ee2-24f07e1fd93f"
      },
      "execution_count": null,
      "outputs": [
        {
          "output_type": "execute_result",
          "data": {
            "text/plain": [
              "array([[ 0,  1,  2,  3],\n",
              "       [ 4,  5,  6,  7],\n",
              "       [ 8,  9, 10, 11]])"
            ]
          },
          "metadata": {},
          "execution_count": 12
        }
      ]
    },
    {
      "cell_type": "code",
      "source": [
        "#ravel(): It flattens a multi-dimensional array into a 1D array. This operation doesn't create a new array but returns a flattened view of the original array.\n",
        "\n",
        "flat_arr = reshaped_arr.ravel()\n",
        "flat_arr"
      ],
      "metadata": {
        "colab": {
          "base_uri": "https://localhost:8080/"
        },
        "id": "A9i5Bi2aozos",
        "outputId": "45fccdaa-8b1a-4f17-dbb0-7465307facf2"
      },
      "execution_count": null,
      "outputs": [
        {
          "output_type": "execute_result",
          "data": {
            "text/plain": [
              "array([ 0,  1,  2,  3,  4,  5,  6,  7,  8,  9, 10, 11])"
            ]
          },
          "metadata": {},
          "execution_count": 13
        }
      ]
    },
    {
      "cell_type": "code",
      "source": [
        "resized_arr = np.resize(arr, (3, 2))\n",
        "resized_arr"
      ],
      "metadata": {
        "colab": {
          "base_uri": "https://localhost:8080/"
        },
        "id": "gGLfyA_Npe7H",
        "outputId": "588cac5a-9581-40ce-fd12-b50a490881df"
      },
      "execution_count": null,
      "outputs": [
        {
          "output_type": "execute_result",
          "data": {
            "text/plain": [
              "array([[0, 1],\n",
              "       [2, 3],\n",
              "       [4, 5]])"
            ]
          },
          "metadata": {},
          "execution_count": 14
        }
      ]
    },
    {
      "cell_type": "code",
      "source": [
        "#Changing Data Type\n",
        "\n",
        "float_arr = arr.astype(float)  # Convert to a float data type\n",
        "float_arr"
      ],
      "metadata": {
        "colab": {
          "base_uri": "https://localhost:8080/"
        },
        "id": "ywjkJoC1qUgJ",
        "outputId": "656ff2bf-9cb5-427e-8322-1ddf614976e4"
      },
      "execution_count": null,
      "outputs": [
        {
          "output_type": "execute_result",
          "data": {
            "text/plain": [
              "array([ 0.,  1.,  2.,  3.,  4.,  5.,  6.,  7.,  8.,  9., 10., 11.])"
            ]
          },
          "metadata": {},
          "execution_count": 16
        }
      ]
    },
    {
      "cell_type": "code",
      "source": [
        "#transpose(): This method allows you to transpose the dimensions of an array.\n",
        "transposed_arr = arr.T  # Transpose a 2D array\n",
        "transposed_arr"
      ],
      "metadata": {
        "colab": {
          "base_uri": "https://localhost:8080/"
        },
        "id": "WQSEbudgJ_DR",
        "outputId": "89c3cf2f-383a-4c8f-a3a1-d4ba0637acc4"
      },
      "execution_count": null,
      "outputs": [
        {
          "output_type": "execute_result",
          "data": {
            "text/plain": [
              "array([ 0,  1,  2,  3,  4,  5,  6,  7,  8,  9, 10, 11])"
            ]
          },
          "metadata": {},
          "execution_count": 23
        }
      ]
    },
    {
      "cell_type": "code",
      "source": [
        "swapped_arr = arr.swapaxes(0, 1) #resized_arr  # Swap the first and second axes\n",
        "swapped_arr"
      ],
      "metadata": {
        "colab": {
          "base_uri": "https://localhost:8080/",
          "height": 211
        },
        "id": "V8bsY75pKb-4",
        "outputId": "d5cf0f11-109f-422e-ae2b-56af23a4b564"
      },
      "execution_count": null,
      "outputs": [
        {
          "output_type": "error",
          "ename": "AxisError",
          "evalue": "ignored",
          "traceback": [
            "\u001b[0;31m---------------------------------------------------------------------------\u001b[0m",
            "\u001b[0;31mAxisError\u001b[0m                                 Traceback (most recent call last)",
            "\u001b[0;32m<ipython-input-26-3c2062ec8c99>\u001b[0m in \u001b[0;36m<cell line: 1>\u001b[0;34m()\u001b[0m\n\u001b[0;32m----> 1\u001b[0;31m \u001b[0mswapped_arr\u001b[0m \u001b[0;34m=\u001b[0m \u001b[0marr\u001b[0m\u001b[0;34m.\u001b[0m\u001b[0mswapaxes\u001b[0m\u001b[0;34m(\u001b[0m\u001b[0;36m0\u001b[0m\u001b[0;34m,\u001b[0m \u001b[0;36m1\u001b[0m\u001b[0;34m)\u001b[0m \u001b[0;31m#resized_arr  # Swap the first and second axes\u001b[0m\u001b[0;34m\u001b[0m\u001b[0;34m\u001b[0m\u001b[0m\n\u001b[0m\u001b[1;32m      2\u001b[0m \u001b[0mswapped_arr\u001b[0m\u001b[0;34m\u001b[0m\u001b[0;34m\u001b[0m\u001b[0m\n",
            "\u001b[0;31mAxisError\u001b[0m: axis2: axis 1 is out of bounds for array of dimension 1"
          ]
        }
      ]
    },
    {
      "cell_type": "code",
      "source": [
        "#Reading Data using numpy:\n",
        "\n",
        "# Load data from a CSV file into a NumPy array\n",
        "data = np.genfromtxt('Test_data.csv', delimiter=',', dtype=float)\n",
        "\n",
        "# 'data.csv' is a CSV file with comma-separated values. You can specify the delimiter accordingly.\n",
        "# The 'dtype' parameter specifies the desired data type for the loaded data.\n",
        "\n",
        "#Reading Data using numpy:\n",
        "\n",
        "# Load data from a binary file (NumPy .npy format)\n",
        "data = np.load('data.npy')\n",
        "\n",
        "# 'data.npy' is a binary file previously saved using np.save()"
      ],
      "metadata": {
        "id": "4m1SxwGRKkTn"
      },
      "execution_count": null,
      "outputs": []
    },
    {
      "cell_type": "code",
      "source": [
        "#Writing to a Text File (e.g., CSV):\n",
        "\n",
        "# Create a NumPy array\n",
        "data = np.array([[1, 2, 3], [4, 5, 6]])\n",
        "# Save the data to a CSV file\n",
        "np.savetxt('output.csv', data, delimiter=',', fmt='%d')\n",
        "\n",
        "# 'output.csv' will contain the data in CSV format. The 'fmt' parameter specifies the format for each element.\n",
        "\n",
        "\n"
      ],
      "metadata": {
        "id": "NHvjRqglNPHh"
      },
      "execution_count": null,
      "outputs": []
    },
    {
      "cell_type": "markdown",
      "source": [
        "In NumPy's np.savetxt function, the fmt parameter specifies the format for each element in the array when saving data to a text file (e.g., CSV). The fmt parameter allows you to control how the data is represented in the output file, including the number of decimal places, scientific notation, and more.\n",
        "\n",
        "Here's how the fmt parameter works:\n",
        "\n",
        "If fmt is a string:\n",
        "\n",
        "It specifies a single format for all elements in the array.\n",
        "For example, fmt='%d' specifies that all elements should be formatted as integers, and fmt='%.2f' specifies that all elements should be formatted as floating-point numbers with two decimal places.\n",
        "If fmt is a sequence (e.g., a list or tuple):\n",
        "\n",
        "It allows you to specify a different format for each column in the array.\n",
        "The length of the sequence should match the number of columns in the array.\n",
        "For example, if you have a 2D array with two columns and you want the first column as integers and the second column as floating-point numbers with two decimal places, you can use fmt=('%d', '%.2f').\n",
        "Here are some common format codes you can use with the fmt parameter:\n",
        "\n",
        "%d: Integer format\n",
        "%f: Floating-point format\n",
        "%.nf: Floating-point format with n decimal places (e.g., %.2f for two decimal places)\n",
        "%e or %E: Scientific notation with lowercase or uppercase 'e' (e.g., %e for lowercase, %E for uppercase)"
      ],
      "metadata": {
        "id": "BOQqDl2gNz1j"
      }
    },
    {
      "cell_type": "markdown",
      "source": [],
      "metadata": {
        "id": "8b-SIUiMNOlA"
      }
    },
    {
      "cell_type": "markdown",
      "source": [
        "The delimiter parameter is used when saving data to a text file (e.g., CSV) or when reading data from a text file in NumPy. It specifies the character or sequence of characters that separates values in the text file. The delimiter helps NumPy understand how to split the data into individual elements or columns.\n",
        "\n",
        "Here's how the delimiter parameter works:\n",
        "\n",
        "When saving data to a text file:\n",
        "\n",
        "You specify the delimiter to indicate how the values in the NumPy array should be separated in the output file. Common delimiters include commas, spaces, tabs, semicolons, or any other character or sequence of characters.\n",
        "For example, delimiter=',' specifies that values should be separated by commas, while delimiter='\\t' specifies tab-separated values.\n",
        "When reading data from a text file:\n",
        "\n",
        "You specify the delimiter when using functions like np.genfromtxt to tell NumPy how to split the values in the input text file into individual elements in the resulting NumPy array.\n",
        "NumPy will split the lines in the text file at occurrences of the specified delimiter, creating columns from the separated values."
      ],
      "metadata": {
        "id": "Hbh7TBepOn94"
      }
    },
    {
      "cell_type": "code",
      "source": [],
      "metadata": {
        "id": "oY6lIo1SOnp7"
      },
      "execution_count": null,
      "outputs": []
    },
    {
      "cell_type": "code",
      "source": [
        "# writing on a binary file\n",
        "\n",
        "# Create a NumPy array\n",
        "data = np.array([1, 2, 3, 4, 5])\n",
        "\n",
        "# Save the data to a binary file (NumPy .npy format)\n",
        "np.save('output.npy', data)\n",
        "\n",
        "# 'output.npy' will contain the data in binary format, which can be loaded later using np.load()"
      ],
      "metadata": {
        "id": "X3UEcUESN6Eh"
      },
      "execution_count": null,
      "outputs": []
    },
    {
      "cell_type": "code",
      "source": [],
      "metadata": {
        "id": "joDGN7tBOPP3"
      },
      "execution_count": null,
      "outputs": []
    }
  ]
}